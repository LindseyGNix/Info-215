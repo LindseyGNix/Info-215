{
  "nbformat": 4,
  "nbformat_minor": 0,
  "metadata": {
    "colab": {
      "name": "Github Code.ipynb",
      "version": "0.3.2",
      "provenance": [],
      "collapsed_sections": []
    },
    "kernelspec": {
      "name": "python3",
      "display_name": "Python 3"
    }
  },
  "cells": [
    {
      "cell_type": "code",
      "metadata": {
        "id": "Ryass-iGIJVQ",
        "colab_type": "code",
        "colab": {}
      },
      "source": [
        "import numpy as np\n",
        "import pandas as pd\n",
        "import seaborn as sns\n",
        "import matplotlib.pyplot as plt"
      ],
      "execution_count": 0,
      "outputs": []
    },
    {
      "cell_type": "code",
      "metadata": {
        "id": "_xjFYLuUJ3Hc",
        "colab_type": "code",
        "colab": {}
      },
      "source": [
        "#Below, df is used as a stand-in for dataframes"
      ],
      "execution_count": 0,
      "outputs": []
    },
    {
      "cell_type": "code",
      "metadata": {
        "id": "kVVSDhGbIyX2",
        "colab_type": "code",
        "colab": {}
      },
      "source": [
        "df = pd.read_csv('df.csv')"
      ],
      "execution_count": 0,
      "outputs": []
    },
    {
      "cell_type": "code",
      "metadata": {
        "id": "PYPNyCEeIyah",
        "colab_type": "code",
        "colab": {}
      },
      "source": [
        "df.head()"
      ],
      "execution_count": 0,
      "outputs": []
    },
    {
      "cell_type": "code",
      "metadata": {
        "id": "dW1_QG6sIydM",
        "colab_type": "code",
        "colab": {}
      },
      "source": [
        "df.dtypes"
      ],
      "execution_count": 0,
      "outputs": []
    },
    {
      "cell_type": "code",
      "metadata": {
        "id": "cgH_-1weIyfs",
        "colab_type": "code",
        "colab": {}
      },
      "source": [
        "df.shape"
      ],
      "execution_count": 0,
      "outputs": []
    },
    {
      "cell_type": "code",
      "metadata": {
        "id": "153fgATeIyiH",
        "colab_type": "code",
        "colab": {}
      },
      "source": [
        "df['column_name'].value_counts()"
      ],
      "execution_count": 0,
      "outputs": []
    },
    {
      "cell_type": "code",
      "metadata": {
        "id": "ERy1xQQUIyke",
        "colab_type": "code",
        "colab": {}
      },
      "source": [
        "#countplot\n",
        "sns.countplot(data=df, y='column1', order=df.column1.value_counts().index)"
      ],
      "execution_count": 0,
      "outputs": []
    },
    {
      "cell_type": "code",
      "metadata": {
        "id": "ZlIjYW42Iym0",
        "colab_type": "code",
        "colab": {}
      },
      "source": [
        "#lmplot\n",
        "sns.lmplot(x=\"column1\",y=\"column2\",hue=\"column3\",data=df, height=5,aspect=0.90, x_jitter=1.10)"
      ],
      "execution_count": 0,
      "outputs": []
    },
    {
      "cell_type": "code",
      "metadata": {
        "id": "7RcuJVjNIypD",
        "colab_type": "code",
        "colab": {}
      },
      "source": [
        "#barplot\n",
        "fig, ax = plt.subplots(figsize=(15,10))\n",
        "ax = fig.gca()\n",
        "sns.barplot(y='column1', x='column2', data=df, ax=ax)"
      ],
      "execution_count": 0,
      "outputs": []
    },
    {
      "cell_type": "code",
      "metadata": {
        "id": "ook8GODmIyrz",
        "colab_type": "code",
        "colab": {}
      },
      "source": [
        "#stacked bargraph\n",
        "ax = df.plot.barh(stacked=True, figsize=(15, 10), cmap=plt.cm.get_cmap('tab20c'))\n",
        "for p in ax.patches:\n",
        "    width, height = p.get_width(), p.get_height()\n",
        "    if width > 0:\n",
        "        ax.annotate(f'{width:.0f}', (p.get_x()+0.40*width,\n",
        "                                     p.get_y()+.17*height), color='black', fontsize=10)\n",
        "plt.title('Title', size=20)\n",
        "plt.xlabel('X-label')\n",
        "plt.tight_layout()"
      ],
      "execution_count": 0,
      "outputs": []
    },
    {
      "cell_type": "code",
      "metadata": {
        "id": "0MBiW1tLKdoB",
        "colab_type": "code",
        "colab": {}
      },
      "source": [
        "#lineplot with 2 lines on same graph\n",
        "plt.rcParams['figure.figsize'] = (8, 4)\n",
        "ax=sns.lineplot(x=\"column1\", y=\"column2\",\n",
        "             data=df)\n",
        "ax=sns.lineplot(x=\"column1\", y=\"column2\",\n",
        "            data=X)\n",
        "plt.title('Title', size=10)\n",
        "plt.xlabel('X-Label')\n",
        "plt.tight_layout()\n",
        "ax.set(xticks=np.arange(0,20,12), xticklabels=[label_1, label_2])"
      ],
      "execution_count": 0,
      "outputs": []
    },
    {
      "cell_type": "code",
      "metadata": {
        "id": "kSI-QUuWMIaN",
        "colab_type": "code",
        "colab": {}
      },
      "source": [
        "# boxplot\n",
        "sns.boxplot(data=df)"
      ],
      "execution_count": 0,
      "outputs": []
    },
    {
      "cell_type": "code",
      "metadata": {
        "id": "HPEwVpOWMJeZ",
        "colab_type": "code",
        "colab": {}
      },
      "source": [
        "#violinplot\n",
        "sns.violinplot(x='column1', y='column2', data=df)"
      ],
      "execution_count": 0,
      "outputs": []
    },
    {
      "cell_type": "code",
      "metadata": {
        "id": "VX8-kYjzMJqZ",
        "colab_type": "code",
        "colab": {}
      },
      "source": [
        "#Heatmap\n",
        "cor_1 = stats_df.corr()\n",
        "\n",
        "sns.heatmap(cor_1)"
      ],
      "execution_count": 0,
      "outputs": []
    },
    {
      "cell_type": "code",
      "metadata": {
        "id": "duzfemCFMJyg",
        "colab_type": "code",
        "colab": {}
      },
      "source": [
        "#histogram\n",
        "x=df['column1']\n",
        "plt.hist(x)"
      ],
      "execution_count": 0,
      "outputs": []
    },
    {
      "cell_type": "code",
      "metadata": {
        "id": "072LWBZbNArz",
        "colab_type": "code",
        "colab": {}
      },
      "source": [
        "#pairplot\n",
        "sns.pairplot(df, hue=\"column1\", size=3)"
      ],
      "execution_count": 0,
      "outputs": []
    },
    {
      "cell_type": "code",
      "metadata": {
        "id": "SYcfAHqjWW-T",
        "colab_type": "code",
        "colab": {}
      },
      "source": [
        "#JointPlot\n",
        "sns.set(style=\"darkgrid\")\n",
        "\n",
        "df2 = sns.load_dataset(\"df\")\n",
        "g = sns.jointplot(\"column1\", \"column2\", data=df2, kind=\"reg\",\n",
        "                  xlim=(0, 60), ylim=(0, 12), color=\"m\", height=7)"
      ],
      "execution_count": 0,
      "outputs": []
    },
    {
      "cell_type": "code",
      "metadata": {
        "id": "nQ6y4frPWXE-",
        "colab_type": "code",
        "colab": {}
      },
      "source": [
        "#x,y axis\n",
        "plt.plot(x, y)\n",
        "plt.tight_layout()"
      ],
      "execution_count": 0,
      "outputs": []
    }
  ]
}